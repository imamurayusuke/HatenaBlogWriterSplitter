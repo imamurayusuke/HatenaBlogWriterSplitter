{
  "nbformat": 4,
  "nbformat_minor": 0,
  "metadata": {
    "colab": {
      "provenance": [],
      "include_colab_link": true
    },
    "kernelspec": {
      "name": "python3",
      "display_name": "Python 3"
    },
    "language_info": {
      "name": "python"
    },
    "gpuClass": "standard",
    "accelerator": "GPU"
  },
  "cells": [
    {
      "cell_type": "markdown",
      "metadata": {
        "id": "view-in-github",
        "colab_type": "text"
      },
      "source": [
        "<a href=\"https://colab.research.google.com/github/imamurayusuke/HatenaBlogWriterSplitter/blob/master/SD1111_colab.ipynb\" target=\"_parent\"><img src=\"https://colab.research.google.com/assets/colab-badge.svg\" alt=\"Open In Colab\"/></a>"
      ]
    },
    {
      "cell_type": "code",
      "execution_count": null,
      "metadata": {
        "id": "tAziMMeXJjQv"
      },
      "outputs": [],
      "source": [
        "#@title ⬇［SD/WebUIの起動／停止］この下の再生ボタンをクリックするとSD/WebUIが起動／停止します\n",
        "\n",
        "# @markdown > Running on local URL:  [http&#58;//127.0.0.1:7860](http://)<br>\n",
        "# @markdown > Running on public URL: [https&#58;//xxxxxxxx-xxxx-xxxx.gradio.live](http://)\n",
        "\n",
        "# @markdown 再生ボタンをクリックして7分～10分程度でこの表示が出ます。下の行のリンクをクリックするとWebUIが開きます。\n",
        "\n",
        "import os\n",
        "\n",
        "# RAMとVRAMの容量取得(GiB)\n",
        "res = !free -m | grep 'Mem:' | awk '{print $2}'\n",
        "if not res:\n",
        "   raise ValueError(\"RAM容量を取得できません\")\n",
        "ram = round(float(res[0]) / 1024, 3)\n",
        "res = !nvidia-smi --query-gpu=memory.total --format=csv,noheader,nounits\n",
        "if not res:\n",
        "   raise ValueError(\"VRAM容量を取得できません。GPUに接続していない可能性があります。「編集」メニューの「ノートブックの設定」で「ハードウェアアクセラレータ」を「GPU」に変更してください。\")\n",
        "vram = round(float(res[0]) / 1024, 3)\n",
        "print(f\"RAM : {ram}\")\n",
        "print(f\"VRAM: {vram}\")\n",
        "del res\n",
        "\n",
        "# Google Driveのマウント\n",
        "from google.colab import drive\n",
        "drive.mount('/content/drive')\n",
        "\n",
        "!sudo apt autoremove\n",
        "!sudo apt-get -y update\n",
        "!sudo apt-get -y install python3.10\n",
        "!sudo cp `which python3.10` /usr/local/bin/python\n",
        "\n",
        "# Pythonのバージョン確認\n",
        "!python -V\n",
        "\n",
        "!wget https://bootstrap.pypa.io/get-pip.py\n",
        "!sudo python get-pip.py\n",
        "\n",
        "!pip install torch==1.13.1+cu117 torchvision==0.14.1+cu117 --extra-index-url https://download.pytorch.org/whl/cu117\n",
        "!pip install -U --pre triton\n",
        "!pip install xformers==0.0.16rc425\n",
        "\n",
        "# SD/WebUIのセットアップ\n",
        "%cd /content/\n",
        "!git clone https://github.com/AUTOMATIC1111/stable-diffusion-webui.git\n",
        "%cd stable-diffusion-webui/models/Stable-diffusion\n",
        "\n",
        "# 公式学習モデルのダウンロード\n",
        "!wget -c \"https://huggingface.co/stabilityai/stable-diffusion-2-1/resolve/main/v2-1_768-ema-pruned.safetensors\" -O /content/stable-diffusion-webui/models/Stable-diffusion/v2-1_768-ema-pruned.safetensors\n",
        "!wget -c \"https://huggingface.co/stabilityai/sd-vae-ft-mse-original/resolve/main/vae-ft-mse-840000-ema-pruned.ckpt\" -O /content/stable-diffusion-webui/models/Stable-diffusion/v2-1_768-ema-pruned.vae.pt\n",
        "!wget -c \"https://raw.githubusercontent.com/Stability-AI/stablediffusion/main/configs/stable-diffusion/v2-inference-v.yaml\" -O /content/stable-diffusion-webui/models/Stable-diffusion/v2-1_768-ema-pruned.yaml\n",
        "\n",
        "# でりだモデルのダウンロード\n",
        "!wget -c \"https://huggingface.co/naclbit/trinart_derrida_characters_v2_stable_diffusion/resolve/main/derrida_final.ckpt\" -O /content/stable-diffusion-webui/models/Stable-diffusion/derrida_final.ckpt\n",
        "!wget -c \"https://huggingface.co/naclbit/trinart_derrida_characters_v2_stable_diffusion/resolve/main/autoencoder_fix_kl-f8-trinart_characters.ckpt\" -O /content/stable-diffusion-webui/models/Stable-diffusion/derrida_final.vae.pt\n",
        "\n",
        "# Googleドライブ上の設定ファイルをバックアップしランタイム上へシンボリックリンク\n",
        "sdpath     = \"/content/drive/MyDrive/Colab Notebooks/Stable Diffusion/\"\n",
        "configpath = sdpath + \"config.json\"\n",
        "uicfgpath  = sdpath + \"ui-config.json\"\n",
        "stylespath = sdpath + \"styles.csv\"\n",
        "\n",
        "if os.path.isfile(configpath):\n",
        "   !cp -v \"{configpath}\" \"{sdpath} + 'config_bak.json'\"\n",
        "   !ln -s -v \"{configpath}\" \"/content/stable-diffusion-webui/config.json\"\n",
        "if os.path.isfile(uicfgpath):\n",
        "   !cp -v \"{uicfgpath}\" \"{sdpath} + 'ui-config_bak.json'\"\n",
        "   !ln -s -v \"{uicfgpath}\" \"/content/stable-diffusion-webui/ui-config.json\"\n",
        "if os.path.isfile(stylespath):\n",
        "   !cp -v \"{stylespath}\" \"{sdpath} + 'styles_bak.csv'\"\n",
        "   !ln -s -v \"{stylespath}\" \"/content/stable-diffusion-webui/styles.csv\"\n",
        "\n",
        "# Googleドライブ上に画像の出力先フォルダを作成（初回のみ）、ランタイム上からそこへシンボリックリンク\n",
        "outputspath = sdpath + \"outputs\"\n",
        "logpath     = sdpath + \"log\"\n",
        "\n",
        "if not os.path.exists(outputpath):\n",
        "   !mkdir -p -v \"{outputpath}\"\n",
        "!ln -s -v \"{outputpath}\" \"/content/stable-diffusion-webui/outputs\"\n",
        "\n",
        "if not os.path.exists(logpath):\n",
        "   !mkdir -p -v \"{logpath}\"\n",
        "!ln -s -v \"{logpath}\" \"/content/stable-diffusion-webui/log\"\n",
        "\n",
        "# Googleドライブ上にExtensionsフォルダを作成（初回のみ）、ランタイム上からシンボリックリンク\n",
        "extpath = sdpath + \"extensions\"\n",
        "\n",
        "if not os.path.exists(extpath):\n",
        "   !mkdir -p -v \"{extpath}\"\n",
        "!mv \"/content/stable-diffusion-webui/extensions\" \"/content/stable-diffusion-webui/extensions_org\"\n",
        "!ln -s -v \"{extpath}\" \"/content/stable-diffusion-webui/extensions\"\n",
        "\n",
        "# 必ず利用するエクステンションをダウンロード\n",
        "if not os.path.exists(extpath + \"/stable-diffusion-webui-localization-ja_JP\"):\n",
        "   !git clone https://github.com/Katsuyuki-Karasawa/stable-diffusion-webui-localization-ja_JP /content/stable-diffusion-webui/extensions/stable-diffusion-webui-localization-ja_JP\n",
        "\n",
        "# 一度起動して必要なものをインストールする\n",
        "%cd /content/stable-diffusion-webui/\n",
        "!COMMANDLINE_ARGS=\"--exit\" REQS_FILE=\"requirements.txt\" python launch.py\n",
        "\n",
        "# SD/WebUIの起動\n",
        "!COMMANDLINE_ARGS=\"--xformers --opt-channelslast --share --enable-insecure-extension-access --ckpt /content/stable-diffusion-webui/models/Stable-diffusion/v2-1_768-ema-pruned.safetensors\" REQS_FILE=\"requirements.txt\" python launch.py\n",
        "\n"
      ]
    },
    {
      "cell_type": "code",
      "source": [
        "#@title ⬇［設定のバックアップ］SD/WebUIを停止した後に実行してください\n",
        "\n",
        "# @markdown 以下のファイルがGoogleドライブにバックアップされます。\n",
        "\n",
        "# @markdown * 設定タブで変更できる各種の設定（config.json）\n",
        "\n",
        "# @markdown * 設定タブで変更できない各種の設定（ui-config.json）\n",
        "\n",
        "# @markdown * Stylesの設定（styles.csv）\n",
        "\n",
        "# @markdown バックアップ先は「Colab Notebooks」－「Stable Diffusion」フォルダです。\n",
        "\n",
        "!cp \"/content/stable-diffusion-webui/config.json\" \"/content/drive/MyDrive/Colab Notebooks/Stable Diffusion\"\n",
        "!cp \"/content/stable-diffusion-webui/ui-config.json\" \"/content/drive/MyDrive/Colab Notebooks/Stable Diffusion\"\n",
        "!cp \"/content/stable-diffusion-webui/styles.csv\" \"/content/drive/MyDrive/Colab Notebooks/Stable Diffusion\""
      ],
      "metadata": {
        "id": "TGs8ElwZrQfO",
        "cellView": "form"
      },
      "execution_count": null,
      "outputs": []
    },
    {
      "cell_type": "code",
      "source": [
        "#@title ⬇［再起動］SD/WebUIの再起動用コードセル\n",
        "\n",
        "#@markdown いったん起動してから停止したSD/WebUIを再起動するときに使います。ダウンロードやインストールを省略できるため約1分で起動します。\n",
        "\n",
        "%cd /content/stable-diffusion-webui/\n",
        "!COMMANDLINE_ARGS=\"--xformers --opt-channelslast --share --enable-insecure-extension-access --ckpt /content/stable-diffusion-webui/models/Stable-diffusion/v2-1_768-ema-pruned.safetensors\" REQS_FILE=\"requirements.txt\" python launch.py"
      ],
      "metadata": {
        "id": "BSxcoNlP9MS_",
        "cellView": "form"
      },
      "execution_count": null,
      "outputs": []
    },
    {
      "cell_type": "markdown",
      "source": [
        "最終更新日：2023/1/29\n",
        "\n",
        "+ このノートブックは[aka\\_1111\\.ipynb \\- Colaboratory](https://colab.research.google.com/drive/1GhvterZebPlZU4P7RcUK-U-4Y23rZpQO)を参考にさせていただきました\n",
        "\n"
      ],
      "metadata": {
        "id": "w-g8GSEuNEKZ"
      }
    }
  ]
}